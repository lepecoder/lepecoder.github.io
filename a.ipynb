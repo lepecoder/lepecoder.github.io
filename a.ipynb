{
 "cells": [
  {
   "cell_type": "markdown",
   "metadata": {},
   "source": [
    "## 闭包定义\n",
    "\n",
    "当在函数内部再定义一个函数时，内部函数会持有外部函数变量的引用，即使外部函数已经执行完毕，这个特性被称为闭包。主要有以下特点：\n",
    "\n",
    "1. 函数嵌套： 在函数内部定义另一个函数。\n",
    "2. 变量引用： 内部函数引用外部函数的非局部变量。\n",
    "3. 持久性： 外部函数返回内部函数，外部函数的变量仍然被保存，而不是被销毁。\n"
   ]
  },
  {
   "cell_type": "code",
   "execution_count": 4,
   "metadata": {},
   "outputs": [
    {
     "name": "stdout",
     "output_type": "stream",
     "text": [
      "15\n"
     ]
    }
   ],
   "source": [
    "def outer_function():\n",
    "    x = 10\n",
    "    def inner_function(y):\n",
    "        return x + y  # 内部函数引用了外部函数的变量 x\n",
    "    return inner_function\n",
    "\n",
    "# 使用闭包\n",
    "closure = outer_function()\n",
    "print(closure(5))   # 输出 15\n",
    "\n",
    "# 也可以返回 lambda 表达式\n",
    "def outer_function():\n",
    "    x = 10\n",
    "    return lambda y: x + y\n",
    "\n",
    "closure = outer_function()\n",
    "print(closure(8))   # 输出 18\n"
   ]
  },
  {
   "cell_type": "markdown",
   "metadata": {},
   "source": [
    "## 闭包的使用\n",
    "\n",
    "#### 封装带有状态的回调函数\n",
    "上面的例子中，outer_function 是外部函数，inner_function 和 lambda 是内部函数，当外部函数其变量 x 仍被返回的内部函数引用。\n",
    "\n",
    "利用闭包特性我们可以使得函数记住某些结果，用于延迟执行。比如在有一个列表，点击不同item弹出不同的消息，通常我们会绑定同一个点击事件，然后在点击事件里获取item.id，触发不同的操作。但根据闭包特性，我们可以直接绑定一个lambda函数，并获取外部变量作为参数。\n",
    "\n",
    "查看如下例子，click_func类似于点击事件，根据不同的外部item传入不同的参数"
   ]
  },
  {
   "cell_type": "code",
   "execution_count": 8,
   "metadata": {},
   "outputs": [
    {
     "name": "stdout",
     "output_type": "stream",
     "text": [
      "1 2 3 4 5 "
     ]
    }
   ],
   "source": [
    "def outer_function():\n",
    "    items = [1,2,3,4,5]\n",
    "    click_func = []\n",
    "    for item in items:\n",
    "        click_func.append(lambda :print(item, end=' '))\n",
    "    return click_func\n",
    "\n",
    "click_func = outer_function()\n",
    "for func in click_func:\n",
    "    func()  # 输出 5 5 5 5 5\n"
   ]
  },
  {
   "cell_type": "markdown",
   "metadata": {},
   "source": [
    "你会发现上面的例子打印结果并不是 1 2 3 4 5 而是 5 5 5 5 5，这是因为闭包获取的是变量的引用而不是拷贝，当内部函数执行时才获取引用的值，而 item 变量在循环的最后被赋值为5。因此如果你想要保存状态，使用“=”拷贝外部变量\n",
    "\n",
    "```python\n",
    "click_func.append(lambda x=item:print(x, end=' '))\n",
    "\n",
    "# 如果是普通 Python 函数\n",
    "def inner_func(x=item):\n",
    "    print(x, end=' ')\n",
    "```"
   ]
  },
  {
   "cell_type": "markdown",
   "metadata": {},
   "source": [
    "#### 闭包内修改外部变量的值\n",
    "\n",
    "闭包只持有外部变量的引用，而且是只读的，因此他是个纯右值，不能出现在等号左边。\n",
    "使用 nonlocal 关键字标记变量在函数外部，可以在闭包内修改外部变量。"
   ]
  },
  {
   "cell_type": "code",
   "execution_count": 20,
   "metadata": {},
   "outputs": [
    {
     "name": "stdout",
     "output_type": "stream",
     "text": [
      "1\n",
      "2\n"
     ]
    }
   ],
   "source": [
    "def outer():\n",
    "    x = 0\n",
    "    def inner():\n",
    "        nonlocal x\n",
    "        x += 1\n",
    "        return x\n",
    "    return inner\n",
    "inner = outer()\n",
    "print(inner()) # 1\n",
    "print(inner()) # 2"
   ]
  },
  {
   "cell_type": "markdown",
   "metadata": {},
   "source": []
  }
 ],
 "metadata": {
  "kernelspec": {
   "display_name": "everest",
   "language": "python",
   "name": "python3"
  },
  "language_info": {
   "codemirror_mode": {
    "name": "ipython",
    "version": 3
   },
   "file_extension": ".py",
   "mimetype": "text/x-python",
   "name": "python",
   "nbconvert_exporter": "python",
   "pygments_lexer": "ipython3",
   "version": "3.10.15"
  }
 },
 "nbformat": 4,
 "nbformat_minor": 2
}
